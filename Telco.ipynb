{
  "nbformat": 4,
  "nbformat_minor": 0,
  "metadata": {
    "colab": {
      "provenance": [],
      "toc_visible": true,
      "authorship_tag": "ABX9TyMJOH7QJsEMhmlVYwBOtY6Y",
      "include_colab_link": true
    },
    "kernelspec": {
      "name": "python3",
      "display_name": "Python 3"
    },
    "language_info": {
      "name": "python"
    }
  },
  "cells": [
    {
      "cell_type": "markdown",
      "metadata": {
        "id": "view-in-github",
        "colab_type": "text"
      },
      "source": [
        "<a href=\"https://colab.research.google.com/github/hafanhh/Telco-Predicting-Customer-Churn-in-Python/blob/main/Telco.ipynb\" target=\"_parent\"><img src=\"https://colab.research.google.com/assets/colab-badge.svg\" alt=\"Open In Colab\"/></a>"
      ]
    },
    {
      "cell_type": "code",
      "execution_count": 82,
      "metadata": {
        "id": "1eYwJJuVP77I"
      },
      "outputs": [],
      "source": [
        "import numpy as np\n",
        "import pandas as pd\n",
        "import matplotlib.pyplot as plt\n",
        "import seaborn as sns\n",
        "from scipy.stats import randint\n",
        "from sklearn.preprocessing import LabelEncoder, StandardScaler\n",
        "from sklearn.model_selection import train_test_split, GridSearchCV, RandomizedSearchCV\n",
        "from sklearn.svm import SVC\n",
        "from sklearn.linear_model import LogisticRegression\n",
        "from sklearn.ensemble import RandomForestClassifier, AdaBoostClassifier\n",
        "from sklearn.tree import DecisionTreeClassifier\n",
        "import xgboost as xgb\n",
        "from sklearn.metrics import confusion_matrix, precision_score, recall_score, roc_curve, roc_auc_score, f1_score"
      ]
    },
    {
      "cell_type": "markdown",
      "source": [
        "## 1. Import Data"
      ],
      "metadata": {
        "id": "ogIcG3BDQ0Qt"
      }
    },
    {
      "cell_type": "code",
      "source": [
        "file = 'https://assets.datacamp.com/production/repositories/1764/datasets/79c5446a4a753e728e32b4a67138344847b8f131/Churn.csv'\n",
        "telco = pd.read_csv(file)\n",
        "print(telco.head())"
      ],
      "metadata": {
        "colab": {
          "base_uri": "https://localhost:8080/"
        },
        "id": "zwUSODQgQdZT",
        "outputId": "29a13637-2394-4a6b-f594-8840300334ea"
      },
      "execution_count": 83,
      "outputs": [
        {
          "output_type": "stream",
          "name": "stdout",
          "text": [
            "   Account_Length  Vmail_Message  Day_Mins  Eve_Mins  ...  Intl_Charge  State  Area_Code     Phone\n",
            "0             128             25     265.1     197.4  ...         2.70     KS        415  382-4657\n",
            "1             107             26     161.6     195.5  ...         3.70     OH        415  371-7191\n",
            "2             137              0     243.4     121.2  ...         3.29     NJ        415  358-1921\n",
            "3              84              0     299.4      61.9  ...         1.78     OH        408  375-9999\n",
            "4              75              0     166.7     148.3  ...         2.73     OK        415  330-6626\n",
            "\n",
            "[5 rows x 21 columns]\n"
          ]
        }
      ]
    },
    {
      "cell_type": "markdown",
      "source": [
        "## 2. Exploring customer churn"
      ],
      "metadata": {
        "id": "sqZD-kGLRFjD"
      }
    },
    {
      "cell_type": "markdown",
      "source": [
        "2.1. How many churners does the dataset have, and how many non-churners?"
      ],
      "metadata": {
        "id": "Cnndp12ZRKPp"
      }
    },
    {
      "cell_type": "code",
      "source": [
        "telco['Churn'].value_counts()"
      ],
      "metadata": {
        "colab": {
          "base_uri": "https://localhost:8080/"
        },
        "id": "CBZwRRoPRNdH",
        "outputId": "e09b03b3-5074-4813-a966-bc9d66ced8c0"
      },
      "execution_count": 84,
      "outputs": [
        {
          "output_type": "execute_result",
          "data": {
            "text/plain": [
              "no     2850\n",
              "yes     483\n",
              "Name: Churn, dtype: int64"
            ]
          },
          "metadata": {},
          "execution_count": 84
        }
      ]
    },
    {
      "cell_type": "markdown",
      "source": [
        "There are 483 Churners and 2850 Non-Churners. It looks like there are far more Non-Churners than Churners in dataset."
      ],
      "metadata": {
        "id": "DoLKwpt7RacE"
      }
    },
    {
      "cell_type": "markdown",
      "source": [
        "### 2.2. Summary statistics for both classes\n",
        " * To explore the 'Churn' column further to see if there are differences between churners and non-churners."
      ],
      "metadata": {
        "id": "w9qxAz4BSC09"
      }
    },
    {
      "cell_type": "code",
      "source": [
        "# Group telco by 'Churn' and compute the mean\n",
        "print(telco.groupby(['Churn'])[['CustServ_Calls', 'Vmail_Message']].mean())"
      ],
      "metadata": {
        "colab": {
          "base_uri": "https://localhost:8080/"
        },
        "id": "9Quvi3uKSF_1",
        "outputId": "2e80fea8-e6e4-4777-bfa6-e992f543955d"
      },
      "execution_count": 85,
      "outputs": [
        {
          "output_type": "stream",
          "name": "stdout",
          "text": [
            "       CustServ_Calls  Vmail_Message\n",
            "Churn                               \n",
            "no           1.449825       8.604561\n",
            "yes          2.229814       5.115942\n"
          ]
        }
      ]
    },
    {
      "cell_type": "code",
      "source": [
        "# Group telco by 'Churn' and compute the standard deviation\n",
        "print(telco.groupby(['Churn'])[['CustServ_Calls', 'Vmail_Message']].std())"
      ],
      "metadata": {
        "colab": {
          "base_uri": "https://localhost:8080/"
        },
        "id": "CCo1_JJYSiv3",
        "outputId": "e9e5c60b-0973-4660-cb52-06034880524b"
      },
      "execution_count": 86,
      "outputs": [
        {
          "output_type": "stream",
          "name": "stdout",
          "text": [
            "       CustServ_Calls  Vmail_Message\n",
            "Churn                               \n",
            "no           1.163883      13.913125\n",
            "yes          1.853275      11.860138\n"
          ]
        }
      ]
    },
    {
      "cell_type": "markdown",
      "source": [
        "Churners seem to make more customer service calls than non-churners"
      ],
      "metadata": {
        "id": "9Du6_dBTS-6M"
      }
    },
    {
      "cell_type": "markdown",
      "source": [
        "### 2.3. Churn by State\n",
        "* When dealing with customer data, geographic regions may play an important part in determining whether a customer will cancel their service or not."
      ],
      "metadata": {
        "id": "9g5WAJzVTi63"
      }
    },
    {
      "cell_type": "code",
      "source": [
        "# Count the number of churners and non-churners by State\n",
        "print(telco.groupby('State')['Churn'].value_counts())"
      ],
      "metadata": {
        "colab": {
          "base_uri": "https://localhost:8080/"
        },
        "id": "zugUHt7nT_U-",
        "outputId": "23e07760-9e75-4ea2-f3c9-8ea9d2e4ab15"
      },
      "execution_count": 87,
      "outputs": [
        {
          "output_type": "stream",
          "name": "stdout",
          "text": [
            "State  Churn\n",
            "AK     no       49\n",
            "       yes       3\n",
            "AL     no       72\n",
            "       yes       8\n",
            "AR     no       44\n",
            "                ..\n",
            "WI     yes       7\n",
            "WV     no       96\n",
            "       yes      10\n",
            "WY     no       68\n",
            "       yes       9\n",
            "Name: Churn, Length: 102, dtype: int64\n"
          ]
        }
      ]
    },
    {
      "cell_type": "markdown",
      "source": [
        " While California is the most populous state in the U.S, there are not as many customers from California in our dataset. Arizona (AZ), for example, has 64 customers, 4 of whom ended up churning. In comparison, California has a higher number (and percentage) of customers who churned."
      ],
      "metadata": {
        "id": "tikRtbKnUrpD"
      }
    },
    {
      "cell_type": "markdown",
      "source": [
        "### 2.4. The distribution of account length\n",
        "* To understand how the variables are distributed"
      ],
      "metadata": {
        "id": "U6GJ6RzuVyAc"
      }
    },
    {
      "cell_type": "code",
      "source": [
        "# Visualize the distribution of account length\n",
        "sns.displot(telco['Account_Length'])\n",
        "plt.show()"
      ],
      "metadata": {
        "colab": {
          "base_uri": "https://localhost:8080/",
          "height": 506
        },
        "id": "lcbG5vFKWEIk",
        "outputId": "15ab45dc-5d0a-45fd-e861-1cc1d470e2d0"
      },
      "execution_count": 88,
      "outputs": [
        {
          "output_type": "display_data",
          "data": {
            "text/plain": [
              "<Figure size 500x500 with 1 Axes>"
            ],
            "image/png": "[encoded data removed]"
          },
          "metadata": {}
        }
      ]
    },
    {
      "cell_type": "code",
      "source": [
        "# Visualize the differences in account length\n",
        "sns.boxplot(x = 'Churn', y= 'Account_Length', data = telco)\n",
        "plt.show()"
      ],
      "metadata": {
        "colab": {
          "base_uri": "https://localhost:8080/",
          "height": 449
        },
        "id": "AtHYEkWWWpcZ",
        "outputId": "52be9652-1e16-4a83-af1f-2d06f987c2b4"
      },
      "execution_count": 89,
      "outputs": [
        {
          "output_type": "display_data",
          "data": {
            "text/plain": [
              "<Figure size 640x480 with 1 Axes>"
            ],
            "image/png": "[encoded data removed]"
          },
          "metadata": {}
        }
      ]
    },
    {
      "cell_type": "code",
      "source": [
        "# Visualize the differences in account length whether the International plan had impact on account length or churn\n",
        "sns.boxplot(x = 'Churn', y= 'Account_Length', data = telco, hue = 'Intl_Plan')\n",
        "plt.show()"
      ],
      "metadata": {
        "colab": {
          "base_uri": "https://localhost:8080/",
          "height": 449
        },
        "id": "gWjgfypAXK1t",
        "outputId": "6b83ff57-f2cb-4c99-aa15-667e7053c46f"
      },
      "execution_count": 90,
      "outputs": [
        {
          "output_type": "display_data",
          "data": {
            "text/plain": [
              "<Figure size 640x480 with 1 Axes>"
            ],
            "image/png": "[encoded data removed]"
          },
          "metadata": {}
        }
      ]
    },
    {
      "cell_type": "markdown",
      "source": [
        "### 2.5. The distribution of 'Day_Mins'"
      ],
      "metadata": {
        "id": "SGFvmx1YYWtV"
      }
    },
    {
      "cell_type": "code",
      "source": [
        "# Visualize the distribution of 'Day_Mins'\n",
        "sns.distplot(telco['Day_Mins'])\n",
        "plt.show()"
      ],
      "metadata": {
        "colab": {
          "base_uri": "https://localhost:8080/",
          "height": 637
        },
        "id": "nhGn_GMJYinZ",
        "outputId": "db791290-7e30-411f-a2e4-7d3cecc7882f"
      },
      "execution_count": 91,
      "outputs": [
        {
          "output_type": "stream",
          "name": "stderr",
          "text": [
            "<ipython-input-91-3b7dceb6fe5b>:2: UserWarning: \n",
            "\n",
            "`distplot` is a deprecated function and will be removed in seaborn v0.14.0.\n",
            "\n",
            "Please adapt your code to use either `displot` (a figure-level function with\n",
            "similar flexibility) or `histplot` (an axes-level function for histograms).\n",
            "\n",
            "For a guide to updating your code to use the new functions, please see\n",
            "https://gist.github.com/mwaskom/de44147ed2974457ad6372750bbe5751\n",
            "\n",
            "  sns.distplot(telco['Day_Mins'])\n"
          ]
        },
        {
          "output_type": "display_data",
          "data": {
            "text/plain": [
              "<Figure size 640x480 with 1 Axes>"
            ],
            "image/png": "[encoded data removed]"
          },
          "metadata": {}
        }
      ]
    },
    {
      "cell_type": "markdown",
      "source": [
        "### 2.6. The distribution of 'Eve_Mins'"
      ],
      "metadata": {
        "id": "311jDLPuYjZr"
      }
    },
    {
      "cell_type": "code",
      "source": [
        "# Visualize the distribution of 'Eve_Mins'\n",
        "sns.distplot(telco['Eve_Mins'])\n",
        "\n",
        "# Display the plot\n",
        "plt.show()"
      ],
      "metadata": {
        "colab": {
          "base_uri": "https://localhost:8080/",
          "height": 637
        },
        "id": "Rf2u3IgTYVya",
        "outputId": "37094f8b-822c-47d6-af85-5ff8db79cfa8"
      },
      "execution_count": 92,
      "outputs": [
        {
          "output_type": "stream",
          "name": "stderr",
          "text": [
            "<ipython-input-92-a685f6774b94>:2: UserWarning: \n",
            "\n",
            "`distplot` is a deprecated function and will be removed in seaborn v0.14.0.\n",
            "\n",
            "Please adapt your code to use either `displot` (a figure-level function with\n",
            "similar flexibility) or `histplot` (an axes-level function for histograms).\n",
            "\n",
            "For a guide to updating your code to use the new functions, please see\n",
            "https://gist.github.com/mwaskom/de44147ed2974457ad6372750bbe5751\n",
            "\n",
            "  sns.distplot(telco['Eve_Mins'])\n"
          ]
        },
        {
          "output_type": "display_data",
          "data": {
            "text/plain": [
              "<Figure size 640x480 with 1 Axes>"
            ],
            "image/png": "[encoded data removed]"
          },
          "metadata": {}
        }
      ]
    },
    {
      "cell_type": "markdown",
      "source": [
        "### 2.7. The distribution of 'Night_Mins'"
      ],
      "metadata": {
        "id": "1kSyzbV2YkUN"
      }
    },
    {
      "cell_type": "code",
      "source": [
        "# Visualize the distribution of 'Night_Mins'\n",
        "sns.distplot(telco['Night_Mins'])\n",
        "\n",
        "# Display the plot\n",
        "plt.show()"
      ],
      "metadata": {
        "colab": {
          "base_uri": "https://localhost:8080/",
          "height": 637
        },
        "id": "TDD9uI9IZ5KV",
        "outputId": "870a46f9-bc0a-4c66-d87e-4e6643e8d6bc"
      },
      "execution_count": 93,
      "outputs": [
        {
          "output_type": "stream",
          "name": "stderr",
          "text": [
            "<ipython-input-93-f6fa648a9b47>:2: UserWarning: \n",
            "\n",
            "`distplot` is a deprecated function and will be removed in seaborn v0.14.0.\n",
            "\n",
            "Please adapt your code to use either `displot` (a figure-level function with\n",
            "similar flexibility) or `histplot` (an axes-level function for histograms).\n",
            "\n",
            "For a guide to updating your code to use the new functions, please see\n",
            "https://gist.github.com/mwaskom/de44147ed2974457ad6372750bbe5751\n",
            "\n",
            "  sns.distplot(telco['Night_Mins'])\n"
          ]
        },
        {
          "output_type": "display_data",
          "data": {
            "text/plain": [
              "<Figure size 640x480 with 1 Axes>"
            ],
            "image/png": "[encoded data removed]"
          },
          "metadata": {}
        }
      ]
    },
    {
      "cell_type": "markdown",
      "source": [
        "### 2.8. The distribution of 'Intl_Mins'"
      ],
      "metadata": {
        "id": "fbkcDc2RYm61"
      }
    },
    {
      "cell_type": "code",
      "source": [
        "# Visualize the distribution of 'Intl_Mins'\n",
        "sns.distplot(telco['Intl_Mins'])\n",
        "\n",
        "# Display the plot\n",
        "plt.show()"
      ],
      "metadata": {
        "colab": {
          "base_uri": "https://localhost:8080/",
          "height": 637
        },
        "id": "-gEk7GkPZ-ex",
        "outputId": "7cd3d5c0-41d5-4788-df7f-6979dbe70211"
      },
      "execution_count": 94,
      "outputs": [
        {
          "output_type": "stream",
          "name": "stderr",
          "text": [
            "<ipython-input-94-d81711501e2c>:2: UserWarning: \n",
            "\n",
            "`distplot` is a deprecated function and will be removed in seaborn v0.14.0.\n",
            "\n",
            "Please adapt your code to use either `displot` (a figure-level function with\n",
            "similar flexibility) or `histplot` (an axes-level function for histograms).\n",
            "\n",
            "For a guide to updating your code to use the new functions, please see\n",
            "https://gist.github.com/mwaskom/de44147ed2974457ad6372750bbe5751\n",
            "\n",
            "  sns.distplot(telco['Intl_Mins'])\n"
          ]
        },
        {
          "output_type": "display_data",
          "data": {
            "text/plain": [
              "<Figure size 640x480 with 1 Axes>"
            ],
            "image/png": "[encoded data removed]"
          },
          "metadata": {}
        }
      ]
    },
    {
      "cell_type": "markdown",
      "source": [
        "### 2.9. Customer service calls and Churn\n",
        "* It is already seen that there's not much of a difference in account lengths between churners and non-churners, but that there is a difference in the number of customer service calls left by churners.\n",
        "\n",
        "* To visualize this difference using a box plot and incorporate other features of interest - do customers who have international plans make more customer service calls? Or do they tend to churn more? How about voicemail plans?"
      ],
      "metadata": {
        "id": "IC49BWBLaRfV"
      }
    },
    {
      "cell_type": "code",
      "source": [
        "# Create the box plot to see differences between churners and no-churners of customer service calls\n",
        "sns.boxplot(x = 'Churn',\n",
        "            y = 'CustServ_Calls',\n",
        "            data = telco)\n",
        "plt.show()"
      ],
      "metadata": {
        "colab": {
          "base_uri": "https://localhost:8080/",
          "height": 449
        },
        "id": "OkkuB-o7a493",
        "outputId": "9a96efc9-0354-45d1-97f1-8f5da56dd683"
      },
      "execution_count": 95,
      "outputs": [
        {
          "output_type": "display_data",
          "data": {
            "text/plain": [
              "<Figure size 640x480 with 1 Axes>"
            ],
            "image/png": "[encoded data removed]"
          },
          "metadata": {}
        }
      ]
    },
    {
      "cell_type": "code",
      "source": [
        "# Visualize whether or not having a voice mail plan affects the number of customer service calls or churn\n",
        "sns.boxplot(x = 'Churn',\n",
        "            y = 'CustServ_Calls',\n",
        "            data = telco,\n",
        "            hue = \"Vmail_Plan\")\n",
        "plt.show()"
      ],
      "metadata": {
        "colab": {
          "base_uri": "https://localhost:8080/",
          "height": 449
        },
        "id": "K-Q3iRAzcJif",
        "outputId": "a565e066-42b7-467a-fe70-98b9fc3ccb90"
      },
      "execution_count": 96,
      "outputs": [
        {
          "output_type": "display_data",
          "data": {
            "text/plain": [
              "<Figure size 640x480 with 1 Axes>"
            ],
            "image/png": "[encoded data removed]"
          },
          "metadata": {}
        }
      ]
    },
    {
      "cell_type": "code",
      "source": [
        "# Visualize whether or not having a International plan affects the number of customer service calls or churn\n",
        "sns.boxplot(x = 'Churn',\n",
        "            y = 'CustServ_Calls',\n",
        "            data = telco,\n",
        "            hue = \"Intl_Plan\")\n",
        "plt.show()"
      ],
      "metadata": {
        "colab": {
          "base_uri": "https://localhost:8080/",
          "height": 449
        },
        "id": "CR3ORD7YcXpz",
        "outputId": "27311387-d052-4190-836c-fa25d8a508a1"
      },
      "execution_count": 97,
      "outputs": [
        {
          "output_type": "display_data",
          "data": {
            "text/plain": [
              "<Figure size 640x480 with 1 Axes>"
            ],
            "image/png": "[encoded data removed]"
          },
          "metadata": {}
        }
      ]
    },
    {
      "cell_type": "markdown",
      "source": [
        "There are some very interesting insights here. It looks like customers who do churn end up leaving more customer service calls, unless these customers also have an international plan, in which case they leave fewer customer service calls."
      ],
      "metadata": {
        "id": "oOYw7r5Rbh0z"
      }
    },
    {
      "cell_type": "markdown",
      "source": [
        "## 3. Data Preparation"
      ],
      "metadata": {
        "id": "Fbh12XJooLQN"
      }
    },
    {
      "cell_type": "code",
      "source": [
        "# Check data types\n",
        "telco.dtypes"
      ],
      "metadata": {
        "colab": {
          "base_uri": "https://localhost:8080/"
        },
        "id": "I3MRP2m4obp9",
        "outputId": "39dceded-71d7-4337-8c7a-2349fbdeb757"
      },
      "execution_count": 98,
      "outputs": [
        {
          "output_type": "execute_result",
          "data": {
            "text/plain": [
              "Account_Length      int64\n",
              "Vmail_Message       int64\n",
              "Day_Mins          float64\n",
              "Eve_Mins          float64\n",
              "Night_Mins        float64\n",
              "Intl_Mins         float64\n",
              "CustServ_Calls      int64\n",
              "Churn              object\n",
              "Intl_Plan          object\n",
              "Vmail_Plan         object\n",
              "Day_Calls           int64\n",
              "Day_Charge        float64\n",
              "Eve_Calls           int64\n",
              "Eve_Charge        float64\n",
              "Night_Calls         int64\n",
              "Night_Charge      float64\n",
              "Intl_Calls          int64\n",
              "Intl_Charge       float64\n",
              "State              object\n",
              "Area_Code           int64\n",
              "Phone              object\n",
              "dtype: object"
            ]
          },
          "metadata": {},
          "execution_count": 98
        }
      ]
    },
    {
      "cell_type": "code",
      "source": [
        "# Calculate statistic summary\n",
        "telco.describe()"
      ],
      "metadata": {
        "colab": {
          "base_uri": "https://localhost:8080/",
          "height": 317
        },
        "id": "PkuNOMp50k-B",
        "outputId": "e6c07b4e-c9f0-4490-ef1d-9c74d7d06058"
      },
      "execution_count": 99,
      "outputs": [
        {
          "output_type": "execute_result",
          "data": {
            "text/plain": [
              "       Account_Length  Vmail_Message     Day_Mins  ...   Intl_Calls  Intl_Charge    Area_Code\n",
              "count     3333.000000    3333.000000  3333.000000  ...  3333.000000  3333.000000  3333.000000\n",
              "mean       101.064806       8.099010   179.775098  ...     4.479448     2.764581   437.182418\n",
              "std         39.822106      13.688365    54.467389  ...     2.461214     0.753773    42.371290\n",
              "min          1.000000       0.000000     0.000000  ...     0.000000     0.000000   408.000000\n",
              "25%         74.000000       0.000000   143.700000  ...     3.000000     2.300000   408.000000\n",
              "50%        101.000000       0.000000   179.400000  ...     4.000000     2.780000   415.000000\n",
              "75%        127.000000      20.000000   216.400000  ...     6.000000     3.270000   510.000000\n",
              "max        243.000000      51.000000   350.800000  ...    20.000000     5.400000   510.000000\n",
              "\n",
              "[8 rows x 16 columns]"
            ],
            "text/html": [
              "\n",
              "  <div id=\"df-df2c58ee-e21c-4e11-8e9f-29125a04d46f\" class=\"colab-df-container\">\n",
              "    <div>\n",
              "<style scoped>\n",
              "    .dataframe tbody tr th:only-of-type {\n",
              "        vertical-align: middle;\n",
              "    }\n",
              "\n",
              "    .dataframe tbody tr th {\n",
              "        vertical-align: top;\n",
              "    }\n",
              "\n",
              "    .dataframe thead th {\n",
              "        text-align: right;\n",
              "    }\n",
              "</style>\n",
              "<table border=\"1\" class=\"dataframe\">\n",
              "  <thead>\n",
              "    <tr style=\"text-align: right;\">\n",
              "      <th></th>\n",
              "      <th>Account_Length</th>\n",
              "      <th>Vmail_Message</th>\n",
              "      <th>Day_Mins</th>\n",
              "      <th>Eve_Mins</th>\n",
              "      <th>Night_Mins</th>\n",
              "      <th>Intl_Mins</th>\n",
              "      <th>CustServ_Calls</th>\n",
              "      <th>Day_Calls</th>\n",
              "      <th>Day_Charge</th>\n",
              "      <th>Eve_Calls</th>\n",
              "      <th>Eve_Charge</th>\n",
              "      <th>Night_Calls</th>\n",
              "      <th>Night_Charge</th>\n",
              "      <th>Intl_Calls</th>\n",
              "      <th>Intl_Charge</th>\n",
              "      <th>Area_Code</th>\n",
              "    </tr>\n",
              "  </thead>\n",
              "  <tbody>\n",
              "    <tr>\n",
              "      <th>count</th>\n",
              "      <td>3333.000000</td>\n",
              "      <td>3333.000000</td>\n",
              "      <td>3333.000000</td>\n",
              "      <td>3333.000000</td>\n",
              "      <td>3333.000000</td>\n",
              "      <td>3333.000000</td>\n",
              "      <td>3333.000000</td>\n",
              "      <td>3333.000000</td>\n",
              "      <td>3333.000000</td>\n",
              "      <td>3333.000000</td>\n",
              "      <td>3333.000000</td>\n",
              "      <td>3333.000000</td>\n",
              "      <td>3333.000000</td>\n",
              "      <td>3333.000000</td>\n",
              "      <td>3333.000000</td>\n",
              "      <td>3333.000000</td>\n",
              "    </tr>\n",
              "    <tr>\n",
              "      <th>mean</th>\n",
              "      <td>101.064806</td>\n",
              "      <td>8.099010</td>\n",
              "      <td>179.775098</td>\n",
              "      <td>200.980348</td>\n",
              "      <td>200.872037</td>\n",
              "      <td>10.237294</td>\n",
              "      <td>1.562856</td>\n",
              "      <td>100.435644</td>\n",
              "      <td>30.562307</td>\n",
              "      <td>100.114311</td>\n",
              "      <td>17.083540</td>\n",
              "      <td>100.107711</td>\n",
              "      <td>9.039325</td>\n",
              "      <td>4.479448</td>\n",
              "      <td>2.764581</td>\n",
              "      <td>437.182418</td>\n",
              "    </tr>\n",
              "    <tr>\n",
              "      <th>std</th>\n",
              "      <td>39.822106</td>\n",
              "      <td>13.688365</td>\n",
              "      <td>54.467389</td>\n",
              "      <td>50.713844</td>\n",
              "      <td>50.573847</td>\n",
              "      <td>2.791840</td>\n",
              "      <td>1.315491</td>\n",
              "      <td>20.069084</td>\n",
              "      <td>9.259435</td>\n",
              "      <td>19.922625</td>\n",
              "      <td>4.310668</td>\n",
              "      <td>19.568609</td>\n",
              "      <td>2.275873</td>\n",
              "      <td>2.461214</td>\n",
              "      <td>0.753773</td>\n",
              "      <td>42.371290</td>\n",
              "    </tr>\n",
              "    <tr>\n",
              "      <th>min</th>\n",
              "      <td>1.000000</td>\n",
              "      <td>0.000000</td>\n",
              "      <td>0.000000</td>\n",
              "      <td>0.000000</td>\n",
              "      <td>23.200000</td>\n",
              "      <td>0.000000</td>\n",
              "      <td>0.000000</td>\n",
              "      <td>0.000000</td>\n",
              "      <td>0.000000</td>\n",
              "      <td>0.000000</td>\n",
              "      <td>0.000000</td>\n",
              "      <td>33.000000</td>\n",
              "      <td>1.040000</td>\n",
              "      <td>0.000000</td>\n",
              "      <td>0.000000</td>\n",
              "      <td>408.000000</td>\n",
              "    </tr>\n",
              "    <tr>\n",
              "      <th>25%</th>\n",
              "      <td>74.000000</td>\n",
              "      <td>0.000000</td>\n",
              "      <td>143.700000</td>\n",
              "      <td>166.600000</td>\n",
              "      <td>167.000000</td>\n",
              "      <td>8.500000</td>\n",
              "      <td>1.000000</td>\n",
              "      <td>87.000000</td>\n",
              "      <td>24.430000</td>\n",
              "      <td>87.000000</td>\n",
              "      <td>14.160000</td>\n",
              "      <td>87.000000</td>\n",
              "      <td>7.520000</td>\n",
              "      <td>3.000000</td>\n",
              "      <td>2.300000</td>\n",
              "      <td>408.000000</td>\n",
              "    </tr>\n",
              "    <tr>\n",
              "      <th>50%</th>\n",
              "      <td>101.000000</td>\n",
              "      <td>0.000000</td>\n",
              "      <td>179.400000</td>\n",
              "      <td>201.400000</td>\n",
              "      <td>201.200000</td>\n",
              "      <td>10.300000</td>\n",
              "      <td>1.000000</td>\n",
              "      <td>101.000000</td>\n",
              "      <td>30.500000</td>\n",
              "      <td>100.000000</td>\n",
              "      <td>17.120000</td>\n",
              "      <td>100.000000</td>\n",
              "      <td>9.050000</td>\n",
              "      <td>4.000000</td>\n",
              "      <td>2.780000</td>\n",
              "      <td>415.000000</td>\n",
              "    </tr>\n",
              "    <tr>\n",
              "      <th>75%</th>\n",
              "      <td>127.000000</td>\n",
              "      <td>20.000000</td>\n",
              "      <td>216.400000</td>\n",
              "      <td>235.300000</td>\n",
              "      <td>235.300000</td>\n",
              "      <td>12.100000</td>\n",
              "      <td>2.000000</td>\n",
              "      <td>114.000000</td>\n",
              "      <td>36.790000</td>\n",
              "      <td>114.000000</td>\n",
              "      <td>20.000000</td>\n",
              "      <td>113.000000</td>\n",
              "      <td>10.590000</td>\n",
              "      <td>6.000000</td>\n",
              "      <td>3.270000</td>\n",
              "      <td>510.000000</td>\n",
              "    </tr>\n",
              "    <tr>\n",
              "      <th>max</th>\n",
              "      <td>243.000000</td>\n",
              "      <td>51.000000</td>\n",
              "      <td>350.800000</td>\n",
              "      <td>363.700000</td>\n",
              "      <td>395.000000</td>\n",
              "      <td>20.000000</td>\n",
              "      <td>9.000000</td>\n",
              "      <td>165.000000</td>\n",
              "      <td>59.640000</td>\n",
              "      <td>170.000000</td>\n",
              "      <td>30.910000</td>\n",
              "      <td>175.000000</td>\n",
              "      <td>17.770000</td>\n",
              "      <td>20.000000</td>\n",
              "      <td>5.400000</td>\n",
              "      <td>510.000000</td>\n",
              "    </tr>\n",
              "  </tbody>\n",
              "</table>\n",
              "</div>\n",
              "    <div class=\"colab-df-buttons\">\n",
              "\n",
              "  <div class=\"colab-df-container\">\n",
              "    <button class=\"colab-df-convert\" onclick=\"convertToInteractive('df-df2c58ee-e21c-4e11-8e9f-29125a04d46f')\"\n",
              "            title=\"Convert this dataframe to an interactive table.\"\n",
              "            style=\"display:none;\">\n",
              "\n",
              "  <svg xmlns=\"http://www.w3.org/2000/svg\" height=\"24px\" viewBox=\"0 -960 960 960\">\n",
              "    <path d=\"M120-120v-720h720v720H120Zm60-500h600v-160H180v160Zm220 220h160v-160H400v160Zm0 220h160v-160H400v160ZM180-400h160v-160H180v160Zm440 0h160v-160H620v160ZM180-180h160v-160H180v160Zm440 0h160v-160H620v160Z\"/>\n",
              "  </svg>\n",
              "    </button>\n",
              "\n",
              "  <style>\n",
              "    .colab-df-container {\n",
              "      display:flex;\n",
              "      gap: 12px;\n",
              "    }\n",
              "\n",
              "    .colab-df-convert {\n",
              "      background-color: #E8F0FE;\n",
              "      border: none;\n",
              "      border-radius: 50%;\n",
              "      cursor: pointer;\n",
              "      display: none;\n",
              "      fill: #1967D2;\n",
              "      height: 32px;\n",
              "      padding: 0 0 0 0;\n",
              "      width: 32px;\n",
              "    }\n",
              "\n",
              "    .colab-df-convert:hover {\n",
              "      background-color: #E2EBFA;\n",
              "      box-shadow: 0px 1px 2px rgba(60, 64, 67, 0.3), 0px 1px 3px 1px rgba(60, 64, 67, 0.15);\n",
              "      fill: #174EA6;\n",
              "    }\n",
              "\n",
              "    .colab-df-buttons div {\n",
              "      margin-bottom: 4px;\n",
              "    }\n",
              "\n",
              "    [theme=dark] .colab-df-convert {\n",
              "      background-color: #3B4455;\n",
              "      fill: #D2E3FC;\n",
              "    }\n",
              "\n",
              "    [theme=dark] .colab-df-convert:hover {\n",
              "      background-color: #434B5C;\n",
              "      box-shadow: 0px 1px 3px 1px rgba(0, 0, 0, 0.15);\n",
              "      filter: drop-shadow(0px 1px 2px rgba(0, 0, 0, 0.3));\n",
              "      fill: #FFFFFF;\n",
              "    }\n",
              "  </style>\n",
              "\n",
              "    <script>\n",
              "      const buttonEl =\n",
              "        document.querySelector('#df-df2c58ee-e21c-4e11-8e9f-29125a04d46f button.colab-df-convert');\n",
              "      buttonEl.style.display =\n",
              "        google.colab.kernel.accessAllowed ? 'block' : 'none';\n",
              "\n",
              "      async function convertToInteractive(key) {\n",
              "        const element = document.querySelector('#df-df2c58ee-e21c-4e11-8e9f-29125a04d46f');\n",
              "        const dataTable =\n",
              "          await google.colab.kernel.invokeFunction('convertToInteractive',\n",
              "                                                    [key], {});\n",
              "        if (!dataTable) return;\n",
              "\n",
              "        const docLinkHtml = 'Like what you see? Visit the ' +\n",
              "          '<a target=\"_blank\" href=https://colab.research.google.com/notebooks/data_table.ipynb>data table notebook</a>'\n",
              "          + ' to learn more about interactive tables.';\n",
              "        element.innerHTML = '';\n",
              "        dataTable['output_type'] = 'display_data';\n",
              "        await google.colab.output.renderOutput(dataTable, element);\n",
              "        const docLink = document.createElement('div');\n",
              "        docLink.innerHTML = docLinkHtml;\n",
              "        element.appendChild(docLink);\n",
              "      }\n",
              "    </script>\n",
              "  </div>\n",
              "\n",
              "\n",
              "<div id=\"df-1ee1a879-315e-4723-9b6e-db21244362af\">\n",
              "  <button class=\"colab-df-quickchart\" onclick=\"quickchart('df-1ee1a879-315e-4723-9b6e-db21244362af')\"\n",
              "            title=\"Suggest charts\"\n",
              "            style=\"display:none;\">\n",
              "\n",
              "<svg xmlns=\"http://www.w3.org/2000/svg\" height=\"24px\"viewBox=\"0 0 24 24\"\n",
              "     width=\"24px\">\n",
              "    <g>\n",
              "        <path d=\"M19 3H5c-1.1 0-2 .9-2 2v14c0 1.1.9 2 2 2h14c1.1 0 2-.9 2-2V5c0-1.1-.9-2-2-2zM9 17H7v-7h2v7zm4 0h-2V7h2v10zm4 0h-2v-4h2v4z\"/>\n",
              "    </g>\n",
              "</svg>\n",
              "  </button>\n",
              "\n",
              "<style>\n",
              "  .colab-df-quickchart {\n",
              "      --bg-color: #E8F0FE;\n",
              "      --fill-color: #1967D2;\n",
              "      --hover-bg-color: #E2EBFA;\n",
              "      --hover-fill-color: #174EA6;\n",
              "      --disabled-fill-color: #AAA;\n",
              "      --disabled-bg-color: #DDD;\n",
              "  }\n",
              "\n",
              "  [theme=dark] .colab-df-quickchart {\n",
              "      --bg-color: #3B4455;\n",
              "      --fill-color: #D2E3FC;\n",
              "      --hover-bg-color: #434B5C;\n",
              "      --hover-fill-color: #FFFFFF;\n",
              "      --disabled-bg-color: #3B4455;\n",
              "      --disabled-fill-color: #666;\n",
              "  }\n",
              "\n",
              "  .colab-df-quickchart {\n",
              "    background-color: var(--bg-color);\n",
              "    border: none;\n",
              "    border-radius: 50%;\n",
              "    cursor: pointer;\n",
              "    display: none;\n",
              "    fill: var(--fill-color);\n",
              "    height: 32px;\n",
              "    padding: 0;\n",
              "    width: 32px;\n",
              "  }\n",
              "\n",
              "  .colab-df-quickchart:hover {\n",
              "    background-color: var(--hover-bg-color);\n",
              "    box-shadow: 0 1px 2px rgba(60, 64, 67, 0.3), 0 1px 3px 1px rgba(60, 64, 67, 0.15);\n",
              "    fill: var(--button-hover-fill-color);\n",
              "  }\n",
              "\n",
              "  .colab-df-quickchart-complete:disabled,\n",
              "  .colab-df-quickchart-complete:disabled:hover {\n",
              "    background-color: var(--disabled-bg-color);\n",
              "    fill: var(--disabled-fill-color);\n",
              "    box-shadow: none;\n",
              "  }\n",
              "\n",
              "  .colab-df-spinner {\n",
              "    border: 2px solid var(--fill-color);\n",
              "    border-color: transparent;\n",
              "    border-bottom-color: var(--fill-color);\n",
              "    animation:\n",
              "      spin 1s steps(1) infinite;\n",
              "  }\n",
              "\n",
              "  @keyframes spin {\n",
              "    0% {\n",
              "      border-color: transparent;\n",
              "      border-bottom-color: var(--fill-color);\n",
              "      border-left-color: var(--fill-color);\n",
              "    }\n",
              "    20% {\n",
              "      border-color: transparent;\n",
              "      border-left-color: var(--fill-color);\n",
              "      border-top-color: var(--fill-color);\n",
              "    }\n",
              "    30% {\n",
              "      border-color: transparent;\n",
              "      border-left-color: var(--fill-color);\n",
              "      border-top-color: var(--fill-color);\n",
              "      border-right-color: var(--fill-color);\n",
              "    }\n",
              "    40% {\n",
              "      border-color: transparent;\n",
              "      border-right-color: var(--fill-color);\n",
              "      border-top-color: var(--fill-color);\n",
              "    }\n",
              "    60% {\n",
              "      border-color: transparent;\n",
              "      border-right-color: var(--fill-color);\n",
              "    }\n",
              "    80% {\n",
              "      border-color: transparent;\n",
              "      border-right-color: var(--fill-color);\n",
              "      border-bottom-color: var(--fill-color);\n",
              "    }\n",
              "    90% {\n",
              "      border-color: transparent;\n",
              "      border-bottom-color: var(--fill-color);\n",
              "    }\n",
              "  }\n",
              "</style>\n",
              "\n",
              "  <script>\n",
              "    async function quickchart(key) {\n",
              "      const quickchartButtonEl =\n",
              "        document.querySelector('#' + key + ' button');\n",
              "      quickchartButtonEl.disabled = true;  // To prevent multiple clicks.\n",
              "      quickchartButtonEl.classList.add('colab-df-spinner');\n",
              "      try {\n",
              "        const charts = await google.colab.kernel.invokeFunction(\n",
              "            'suggestCharts', [key], {});\n",
              "      } catch (error) {\n",
              "        console.error('Error during call to suggestCharts:', error);\n",
              "      }\n",
              "      quickchartButtonEl.classList.remove('colab-df-spinner');\n",
              "      quickchartButtonEl.classList.add('colab-df-quickchart-complete');\n",
              "    }\n",
              "    (() => {\n",
              "      let quickchartButtonEl =\n",
              "        document.querySelector('#df-1ee1a879-315e-4723-9b6e-db21244362af button');\n",
              "      quickchartButtonEl.style.display =\n",
              "        google.colab.kernel.accessAllowed ? 'block' : 'none';\n",
              "    })();\n",
              "  </script>\n",
              "</div>\n",
              "    </div>\n",
              "  </div>\n"
            ],
            "application/vnd.google.colaboratory.intrinsic+json": {
              "type": "dataframe",
              "summary": "{\n  \"name\": \"telco\",\n  \"rows\": 8,\n  \"fields\": [\n    {\n      \"column\": \"Account_Length\",\n      \"properties\": {\n        \"dtype\": \"number\",\n        \"std\": 1145.9000546457337,\n        \"min\": 1.0,\n        \"max\": 3333.0,\n        \"num_unique_values\": 8,\n        \"samples\": [\n          101.06480648064806,\n          101.0,\n          3333.0\n        ],\n        \"semantic_type\": \"\",\n        \"description\": \"\"\n      }\n    },\n    {\n      \"column\": \"Vmail_Message\",\n      \"properties\": {\n        \"dtype\": \"number\",\n        \"std\": 1173.8301515451412,\n        \"min\": 0.0,\n        \"max\": 3333.0,\n        \"num_unique_values\": 6,\n        \"samples\": [\n          3333.0,\n          8.099009900990099,\n          51.0\n        ],\n        \"semantic_type\": \"\",\n        \"description\": \"\"\n      }\n    },\n    {\n      \"column\": \"Day_Mins\",\n      \"properties\": {\n        \"dtype\": \"number\",\n        \"std\": 1126.5109095005125,\n        \"min\": 0.0,\n        \"max\": 3333.0,\n        \"num_unique_values\": 8,\n        \"samples\": [\n          179.77509750975094,\n          179.4,\n          3333.0\n        ],\n        \"semantic_type\": \"\",\n        \"description\": \"\"\n      }\n    },\n    {\n      \"column\": \"Eve_Mins\",\n      \"properties\": {\n        \"dtype\": \"number\",\n        \"std\": 1122.3747331695974,\n        \"min\": 0.0,\n        \"max\": 3333.0,\n        \"num_unique_values\": 8,\n        \"samples\": [\n          200.98034803480348,\n          201.4,\n          3333.0\n        ],\n        \"semantic_type\": \"\",\n        \"description\": \"\"\n      }\n    },\n    {\n      \"column\": \"Night_Mins\",\n      \"properties\": {\n        \"dtype\": \"number\",\n        \"std\": 1119.9504817494353,\n        \"min\": 23.2,\n        \"max\": 3333.0,\n        \"num_unique_values\": 8,\n        \"samples\": [\n          200.87203720372037,\n          201.2,\n          3333.0\n        ],\n        \"semantic_type\": \"\",\n        \"description\": \"\"\n      }\n    },\n    {\n      \"column\": \"Intl_Mins\",\n      \"properties\": {\n        \"dtype\": \"number\",\n        \"std\": 1175.1799500190264,\n        \"min\": 0.0,\n        \"max\": 3333.0,\n        \"num_unique_values\": 8,\n        \"samples\": [\n          10.237293729372938,\n          10.3,\n          3333.0\n        ],\n        \"semantic_type\": \"\",\n        \"description\": \"\"\n      }\n    },\n    {\n      \"column\": \"CustServ_Calls\",\n      \"properties\": {\n        \"dtype\": \"number\",\n        \"std\": 1177.5948187412753,\n        \"min\": 0.0,\n        \"max\": 3333.0,\n        \"num_unique_values\": 7,\n        \"samples\": [\n          3333.0,\n          1.5628562856285628,\n          2.0\n        ],\n        \"semantic_type\": \"\",\n        \"description\": \"\"\n      }\n    },\n    {\n      \"column\": \"Day_Calls\",\n      \"properties\": {\n        \"dtype\": \"number\",\n        \"std\": 1149.911513463978,\n        \"min\": 0.0,\n        \"max\": 3333.0,\n        \"num_unique_values\": 8,\n        \"samples\": [\n          100.43564356435644,\n          101.0,\n          3333.0\n        ],\n        \"semantic_type\": \"\",\n        \"description\": \"\"\n      }\n    },\n    {\n      \"column\": \"Day_Charge\",\n      \"properties\": {\n        \"dtype\": \"number\",\n        \"std\": 1168.8739502927278,\n        \"min\": 0.0,\n        \"max\": 3333.0,\n        \"num_unique_values\": 8,\n        \"samples\": [\n          30.562307230723075,\n          30.5,\n          3333.0\n        ],\n        \"semantic_type\": \"\",\n        \"description\": \"\"\n      }\n    },\n    {\n      \"column\": \"Eve_Calls\",\n      \"properties\": {\n        \"dtype\": \"number\",\n        \"std\": 1149.7835542430264,\n        \"min\": 0.0,\n        \"max\": 3333.0,\n        \"num_unique_values\": 8,\n        \"samples\": [\n          100.11431143114311,\n          100.0,\n          3333.0\n        ],\n        \"semantic_type\": \"\",\n        \"description\": \"\"\n      }\n    },\n    {\n      \"column\": \"Eve_Charge\",\n      \"properties\": {\n        \"dtype\": \"number\",\n        \"std\": 1173.1998112594604,\n        \"min\": 0.0,\n        \"max\": 3333.0,\n        \"num_unique_values\": 8,\n        \"samples\": [\n          17.083540354035403,\n          17.12,\n          3333.0\n        ],\n        \"semantic_type\": \"\",\n        \"description\": \"\"\n      }\n    },\n    {\n      \"column\": \"Night_Calls\",\n      \"properties\": {\n        \"dtype\": \"number\",\n        \"std\": 1147.6980607245025,\n        \"min\": 19.568609346058558,\n        \"max\": 3333.0,\n        \"num_unique_values\": 8,\n        \"samples\": [\n          100.10771077107711,\n          100.0,\n          3333.0\n        ],\n        \"semantic_type\": \"\",\n        \"description\": \"\"\n      }\n    },\n    {\n      \"column\": \"Night_Charge\",\n      \"properties\": {\n        \"dtype\": \"number\",\n        \"std\": 1175.5113859334936,\n        \"min\": 1.04,\n        \"max\": 3333.0,\n        \"num_unique_values\": 8,\n        \"samples\": [\n          9.03932493249325,\n          9.05,\n          3333.0\n        ],\n        \"semantic_type\": \"\",\n        \"description\": \"\"\n      }\n    },\n    {\n      \"column\": \"Intl_Calls\",\n      \"properties\": {\n        \"dtype\": \"number\",\n        \"std\": 1176.3918828456763,\n        \"min\": 0.0,\n        \"max\": 3333.0,\n        \"num_unique_values\": 8,\n        \"samples\": [\n          4.4794479447944795,\n          4.0,\n          3333.0\n        ],\n        \"semantic_type\": \"\",\n        \"description\": \"\"\n      }\n    },\n    {\n      \"column\": \"Intl_Charge\",\n      \"properties\": {\n        \"dtype\": \"number\",\n        \"std\": 1177.522388434277,\n        \"min\": 0.0,\n        \"max\": 3333.0,\n        \"num_unique_values\": 8,\n        \"samples\": [\n          2.7645814581458144,\n          2.78,\n          3333.0\n        ],\n        \"semantic_type\": \"\",\n        \"description\": \"\"\n      }\n    },\n    {\n      \"column\": \"Area_Code\",\n      \"properties\": {\n        \"dtype\": \"number\",\n        \"std\": 1050.9404187100654,\n        \"min\": 42.371290485606615,\n        \"max\": 3333.0,\n        \"num_unique_values\": 6,\n        \"samples\": [\n          3333.0,\n          437.18241824182417,\n          510.0\n        ],\n        \"semantic_type\": \"\",\n        \"description\": \"\"\n      }\n    }\n  ]\n}"
            }
          },
          "metadata": {},
          "execution_count": 99
        }
      ]
    },
    {
      "cell_type": "markdown",
      "source": [
        "### 3.1. Data Preprocessing"
      ],
      "metadata": {
        "id": "typzUaK1ol6p"
      }
    },
    {
      "cell_type": "code",
      "source": [
        "# Encode 'Intl_plan'\n",
        "label_encoder = LabelEncoder()\n",
        "telco['Intl_Plan'] = label_encoder.fit_transform(telco['Intl_Plan'])\n",
        "telco['Intl_Plan'].head()"
      ],
      "metadata": {
        "colab": {
          "base_uri": "https://localhost:8080/"
        },
        "id": "sjt6iVN3otdA",
        "outputId": "01ade5d7-9bde-4714-a69f-d6af18e510d3"
      },
      "execution_count": 100,
      "outputs": [
        {
          "output_type": "execute_result",
          "data": {
            "text/plain": [
              "0    0\n",
              "1    0\n",
              "2    0\n",
              "3    1\n",
              "4    1\n",
              "Name: Intl_Plan, dtype: int64"
            ]
          },
          "metadata": {},
          "execution_count": 100
        }
      ]
    },
    {
      "cell_type": "code",
      "source": [
        "# Encode 'Vmail_Plan'\n",
        "label_encoder = LabelEncoder()\n",
        "telco['Vmail_Plan'] = label_encoder.fit_transform(telco['Vmail_Plan'])\n",
        "telco['Vmail_Plan'].head()"
      ],
      "metadata": {
        "colab": {
          "base_uri": "https://localhost:8080/"
        },
        "id": "cIu4S-SAw5E0",
        "outputId": "63c84106-d824-4d62-c4d5-5a18fc49ec66"
      },
      "execution_count": 101,
      "outputs": [
        {
          "output_type": "execute_result",
          "data": {
            "text/plain": [
              "0    1\n",
              "1    1\n",
              "2    0\n",
              "3    0\n",
              "4    0\n",
              "Name: Vmail_Plan, dtype: int64"
            ]
          },
          "metadata": {},
          "execution_count": 101
        }
      ]
    },
    {
      "cell_type": "code",
      "source": [
        "# Encode 'Churn'\n",
        "label_encoder = LabelEncoder()\n",
        "telco['Churn'] = label_encoder.fit_transform(telco['Churn'])\n",
        "telco['Churn'].head()"
      ],
      "metadata": {
        "colab": {
          "base_uri": "https://localhost:8080/"
        },
        "id": "2abR4KFVHc8n",
        "outputId": "26cc19fc-5adc-4575-f99b-59b15c18be25"
      },
      "execution_count": 102,
      "outputs": [
        {
          "output_type": "execute_result",
          "data": {
            "text/plain": [
              "0    0\n",
              "1    0\n",
              "2    0\n",
              "3    0\n",
              "4    0\n",
              "Name: Churn, dtype: int64"
            ]
          },
          "metadata": {},
          "execution_count": 102
        }
      ]
    },
    {
      "cell_type": "code",
      "source": [
        "# Perform one hot encoding on 'State'\n",
        "telco_state = pd.get_dummies(telco['State'])\n",
        "\n",
        "# Print the head of telco_state\n",
        "print(telco_state.head())"
      ],
      "metadata": {
        "colab": {
          "base_uri": "https://localhost:8080/"
        },
        "id": "Rku2CIMszG1W",
        "outputId": "f9b2ebbe-11be-480d-d0b8-98a7df75d99f"
      },
      "execution_count": 103,
      "outputs": [
        {
          "output_type": "stream",
          "name": "stdout",
          "text": [
            "   AK  AL  AR  AZ  CA  CO  CT  DC  DE  FL  GA  HI  ...  RI  SC  SD  TN  TX  UT  VA  VT  WA  WI  WV  WY\n",
            "0   0   0   0   0   0   0   0   0   0   0   0   0  ...   0   0   0   0   0   0   0   0   0   0   0   0\n",
            "1   0   0   0   0   0   0   0   0   0   0   0   0  ...   0   0   0   0   0   0   0   0   0   0   0   0\n",
            "2   0   0   0   0   0   0   0   0   0   0   0   0  ...   0   0   0   0   0   0   0   0   0   0   0   0\n",
            "3   0   0   0   0   0   0   0   0   0   0   0   0  ...   0   0   0   0   0   0   0   0   0   0   0   0\n",
            "4   0   0   0   0   0   0   0   0   0   0   0   0  ...   0   0   0   0   0   0   0   0   0   0   0   0\n",
            "\n",
            "[5 rows x 51 columns]\n"
          ]
        }
      ]
    },
    {
      "cell_type": "code",
      "source": [
        "# Scale telco using StandardScaler\n",
        "telco[[\"Intl_Calls\", \"Night_Mins\"]] = StandardScaler().fit_transform(telco[[\"Intl_Calls\", \"Night_Mins\"]])\n",
        "print(telco[[\"Intl_Calls\", \"Night_Mins\"]])"
      ],
      "metadata": {
        "colab": {
          "base_uri": "https://localhost:8080/"
        },
        "id": "lirqfoBR174l",
        "outputId": "0f0171dd-0bb6-479b-f99f-fbed6bcc565c"
      },
      "execution_count": 104,
      "outputs": [
        {
          "output_type": "stream",
          "name": "stdout",
          "text": [
            "      Intl_Calls  Night_Mins\n",
            "0      -0.601195    0.866743\n",
            "1      -0.601195    1.058571\n",
            "2       0.211534   -0.756869\n",
            "3       1.024263   -0.078551\n",
            "4      -0.601195   -0.276311\n",
            "...          ...         ...\n",
            "3328    0.617898    1.547039\n",
            "3329   -0.194831   -0.189297\n",
            "3330    0.617898   -0.177431\n",
            "3331    2.243356   -1.219628\n",
            "3332   -0.194831    0.801482\n",
            "\n",
            "[3333 rows x 2 columns]\n"
          ]
        }
      ]
    },
    {
      "cell_type": "markdown",
      "source": [
        "### 3.2. Feature enginerring\n",
        "* Dropping unnecessary features\n",
        "\n",
        "Some features such as 'Area_Code' and 'Phone' are not useful when it comes to predicting customer churn, and they need to be dropped prior to modeling."
      ],
      "metadata": {
        "id": "AADqPDdE2Y0Y"
      }
    },
    {
      "cell_type": "code",
      "source": [
        "telco.columns\n"
      ],
      "metadata": {
        "colab": {
          "base_uri": "https://localhost:8080/"
        },
        "id": "NY_Tf0Hd4gf3",
        "outputId": "2b496467-d590-4983-d4b0-b174e4df23ad"
      },
      "execution_count": 105,
      "outputs": [
        {
          "output_type": "execute_result",
          "data": {
            "text/plain": [
              "Index(['Account_Length', 'Vmail_Message', 'Day_Mins', 'Eve_Mins', 'Night_Mins',\n",
              "       'Intl_Mins', 'CustServ_Calls', 'Churn', 'Intl_Plan', 'Vmail_Plan',\n",
              "       'Day_Calls', 'Day_Charge', 'Eve_Calls', 'Eve_Charge', 'Night_Calls',\n",
              "       'Night_Charge', 'Intl_Calls', 'Intl_Charge', 'State', 'Area_Code',\n",
              "       'Phone'],\n",
              "      dtype='object')"
            ]
          },
          "metadata": {},
          "execution_count": 105
        }
      ]
    },
    {
      "cell_type": "code",
      "source": [
        "# Drop the unnecessary features\n",
        "telco = telco.drop(['Area_Code', 'Phone'], axis = 1)\n",
        "print(telco.columns)"
      ],
      "metadata": {
        "colab": {
          "base_uri": "https://localhost:8080/"
        },
        "id": "GXkWgTQZ3-eC",
        "outputId": "a9d1e2c7-5530-4a6b-967c-516d8509e9cd"
      },
      "execution_count": 106,
      "outputs": [
        {
          "output_type": "stream",
          "name": "stdout",
          "text": [
            "Index(['Account_Length', 'Vmail_Message', 'Day_Mins', 'Eve_Mins', 'Night_Mins',\n",
            "       'Intl_Mins', 'CustServ_Calls', 'Churn', 'Intl_Plan', 'Vmail_Plan',\n",
            "       'Day_Calls', 'Day_Charge', 'Eve_Calls', 'Eve_Charge', 'Night_Calls',\n",
            "       'Night_Charge', 'Intl_Calls', 'Intl_Charge', 'State'],\n",
            "      dtype='object')\n"
          ]
        }
      ]
    },
    {
      "cell_type": "markdown",
      "source": [
        "* Engineering a new column"
      ],
      "metadata": {
        "id": "4I-dhQsX42IX"
      }
    },
    {
      "cell_type": "code",
      "source": [
        "# Create the new feature\n",
        "telco['Avg_Night_Calls'] = telco[\"Night_Mins\"]/telco['Night_Calls']\n",
        "\n",
        "# Print the first five rows of 'Avg_Night_Calls'\n",
        "print(telco['Avg_Night_Calls'].head(5))"
      ],
      "metadata": {
        "colab": {
          "base_uri": "https://localhost:8080/"
        },
        "id": "NwbYN9ur34IO",
        "outputId": "714f6c07-e7ec-41ee-e497-7627ea6cef8e"
      },
      "execution_count": 107,
      "outputs": [
        {
          "output_type": "stream",
          "name": "stdout",
          "text": [
            "0    0.009525\n",
            "1    0.010277\n",
            "2   -0.007278\n",
            "3   -0.000883\n",
            "4   -0.002284\n",
            "Name: Avg_Night_Calls, dtype: float64\n"
          ]
        }
      ]
    },
    {
      "cell_type": "markdown",
      "source": [
        "## 4. Churn Prediction"
      ],
      "metadata": {
        "id": "TnOjg0sH6u8y"
      }
    },
    {
      "cell_type": "code",
      "source": [
        "# Create feature variable\n",
        "X = telco.drop(['Churn','State'], axis=1)\n",
        "\n",
        "# Create target variable\n",
        "y = telco['Churn']"
      ],
      "metadata": {
        "id": "w6vnoMTH-XIV"
      },
      "execution_count": 108,
      "outputs": []
    },
    {
      "cell_type": "code",
      "source": [
        "# Split dataset as training and testing set\n",
        "# Create training and testing sets\n",
        "X_train, X_test, y_train, y_test = train_test_split(X, y, test_size = 0.3, random_state = 42)"
      ],
      "metadata": {
        "id": "pdq4xHhMBeM4"
      },
      "execution_count": 109,
      "outputs": []
    },
    {
      "cell_type": "code",
      "source": [
        "telco['Churn'].value_counts()"
      ],
      "metadata": {
        "colab": {
          "base_uri": "https://localhost:8080/"
        },
        "id": "JqK89_mLF4B-",
        "outputId": "e0c25247-7ef8-4525-86bc-2222c74a35ce"
      },
      "execution_count": 110,
      "outputs": [
        {
          "output_type": "execute_result",
          "data": {
            "text/plain": [
              "0    2850\n",
              "1     483\n",
              "Name: Churn, dtype: int64"
            ]
          },
          "metadata": {},
          "execution_count": 110
        }
      ]
    },
    {
      "cell_type": "markdown",
      "source": [
        "### 4.1 Support Vector Machines"
      ],
      "metadata": {
        "id": "DsNlSni-7PBZ"
      }
    },
    {
      "cell_type": "code",
      "source": [
        "# Instantiate the SCV classifier\n",
        "svc = SVC()\n",
        "\n",
        "# Fit model to data\n",
        "svc.fit(X_train, y_train)\n",
        "\n",
        "# Compute accuracy\n",
        "print(svc.score(X_test, y_test))\n",
        "\n",
        "# Predict the labels of the test set\n",
        "y_pred = svc.predict(X_test)"
      ],
      "metadata": {
        "colab": {
          "base_uri": "https://localhost:8080/"
        },
        "id": "EXnYd8Gp7Tw2",
        "outputId": "07540e7f-9df4-4532-cb30-fb424411e41e"
      },
      "execution_count": 111,
      "outputs": [
        {
          "output_type": "stream",
          "name": "stdout",
          "text": [
            "0.857\n"
          ]
        }
      ]
    },
    {
      "cell_type": "code",
      "source": [
        "# Print confusion matrix\n",
        "print(confusion_matrix(y_test, y_pred))"
      ],
      "metadata": {
        "colab": {
          "base_uri": "https://localhost:8080/"
        },
        "id": "R_5jv2s0Q82S",
        "outputId": "21bb40a9-7458-4b1d-d3c7-613211f627bc"
      },
      "execution_count": 112,
      "outputs": [
        {
          "output_type": "stream",
          "name": "stdout",
          "text": [
            "[[857   0]\n",
            " [143   0]]\n"
          ]
        }
      ]
    },
    {
      "cell_type": "code",
      "source": [
        "# Print the precision\n",
        "print(precision_score(y_test, y_pred))"
      ],
      "metadata": {
        "colab": {
          "base_uri": "https://localhost:8080/"
        },
        "id": "6RV2gxPUQ4Ot",
        "outputId": "911aa678-4397-48b9-fdc1-52b8cfe891a2"
      },
      "execution_count": 113,
      "outputs": [
        {
          "output_type": "stream",
          "name": "stdout",
          "text": [
            "0.0\n"
          ]
        },
        {
          "output_type": "stream",
          "name": "stderr",
          "text": [
            "/usr/local/lib/python3.10/dist-packages/sklearn/metrics/_classification.py:1344: UndefinedMetricWarning: Precision is ill-defined and being set to 0.0 due to no predicted samples. Use `zero_division` parameter to control this behavior.\n",
            "  _warn_prf(average, modifier, msg_start, len(result))\n"
          ]
        }
      ]
    },
    {
      "cell_type": "code",
      "source": [
        "# Print the recall\n",
        "print(recall_score(y_test, y_pred))"
      ],
      "metadata": {
        "colab": {
          "base_uri": "https://localhost:8080/"
        },
        "id": "o_v0oHY1RZHY",
        "outputId": "35317003-dccc-411d-cf89-9906315fef72"
      },
      "execution_count": 114,
      "outputs": [
        {
          "output_type": "stream",
          "name": "stdout",
          "text": [
            "0.0\n"
          ]
        }
      ]
    },
    {
      "cell_type": "markdown",
      "source": [
        "### 4.2. Logistic Regression"
      ],
      "metadata": {
        "id": "h0AkPag381C0"
      }
    },
    {
      "cell_type": "code",
      "source": [
        "# Instantiate the classifier\n",
        "lg = LogisticRegression()\n",
        "\n",
        "# Fit model to data\n",
        "lg.fit(X_train, y_train)\n",
        "\n",
        "# Compute accuracy\n",
        "print(lg.score(X_test, y_test))\n",
        "\n",
        "# Predict the labels of the test set\n",
        "y_pred = lg.predict(X_test)"
      ],
      "metadata": {
        "colab": {
          "base_uri": "https://localhost:8080/"
        },
        "id": "N_nb85BF86zk",
        "outputId": "01158531-3729-42da-cff8-25235ea79c03"
      },
      "execution_count": 115,
      "outputs": [
        {
          "output_type": "stream",
          "name": "stdout",
          "text": [
            "0.85\n"
          ]
        },
        {
          "output_type": "stream",
          "name": "stderr",
          "text": [
            "/usr/local/lib/python3.10/dist-packages/sklearn/linear_model/_logistic.py:458: ConvergenceWarning: lbfgs failed to converge (status=1):\n",
            "STOP: TOTAL NO. of ITERATIONS REACHED LIMIT.\n",
            "\n",
            "Increase the number of iterations (max_iter) or scale the data as shown in:\n",
            "    https://scikit-learn.org/stable/modules/preprocessing.html\n",
            "Please also refer to the documentation for alternative solver options:\n",
            "    https://scikit-learn.org/stable/modules/linear_model.html#logistic-regression\n",
            "  n_iter_i = _check_optimize_result(\n"
          ]
        }
      ]
    },
    {
      "cell_type": "code",
      "source": [
        "# Print confusion matrix\n",
        "print(confusion_matrix(y_test, y_pred))"
      ],
      "metadata": {
        "colab": {
          "base_uri": "https://localhost:8080/"
        },
        "id": "d4eXWvjURBgN",
        "outputId": "862c4ce3-9e7b-42ea-8574-f1ab711e74ed"
      },
      "execution_count": 116,
      "outputs": [
        {
          "output_type": "stream",
          "name": "stdout",
          "text": [
            "[[829  28]\n",
            " [122  21]]\n"
          ]
        }
      ]
    },
    {
      "cell_type": "code",
      "source": [
        "# Print the precision\n",
        "print(precision_score(y_test, y_pred))"
      ],
      "metadata": {
        "colab": {
          "base_uri": "https://localhost:8080/"
        },
        "id": "BWhI79RsRMWu",
        "outputId": "fa8f3780-e9c8-4b91-d36d-664dd30ed70d"
      },
      "execution_count": 117,
      "outputs": [
        {
          "output_type": "stream",
          "name": "stdout",
          "text": [
            "0.42857142857142855\n"
          ]
        }
      ]
    },
    {
      "cell_type": "code",
      "source": [
        "# Print the recall\n",
        "print(recall_score(y_test, y_pred))"
      ],
      "metadata": {
        "colab": {
          "base_uri": "https://localhost:8080/"
        },
        "id": "jZFm_31GRbZN",
        "outputId": "db408d30-6273-45d9-f485-bdda66a27a4a"
      },
      "execution_count": 118,
      "outputs": [
        {
          "output_type": "stream",
          "name": "stdout",
          "text": [
            "0.14685314685314685\n"
          ]
        }
      ]
    },
    {
      "cell_type": "code",
      "source": [
        "# Generate the probabilities\n",
        "y_pred_prob = lg.predict_proba(X_test)[:, 1]\n",
        "\n",
        "# Calculate the roc metrics\n",
        "fpr, tpr, thresholds = roc_curve(y_test, y_pred_prob)\n",
        "\n",
        "# Plot the ROC curve\n",
        "plt.plot(fpr, tpr)\n",
        "\n",
        "# Add labels and diagonal line\n",
        "plt.xlabel(\"False Positive Rate\")\n",
        "plt.ylabel(\"True Positive Rate\")\n",
        "plt.plot([0, 1], [0, 1], \"k--\")\n",
        "plt.show()"
      ],
      "metadata": {
        "colab": {
          "base_uri": "https://localhost:8080/",
          "height": 449
        },
        "id": "Dtm0k8Jbpwd0",
        "outputId": "830531f8-07f2-4278-ed84-e3d0f96757dd"
      },
      "execution_count": 119,
      "outputs": [
        {
          "output_type": "display_data",
          "data": {
            "text/plain": [
              "<Figure size 640x480 with 1 Axes>"
            ],
            "image/png": "[encoded data removed]"
          },
          "metadata": {}
        }
      ]
    },
    {
      "cell_type": "code",
      "source": [
        "# Print the AUC\n",
        "print(roc_auc_score(y_test, y_pred_prob))"
      ],
      "metadata": {
        "colab": {
          "base_uri": "https://localhost:8080/"
        },
        "id": "LL4lLbQrr1Qo",
        "outputId": "2003fb84-7d5e-46b8-dd2f-cbe6efcd4be5"
      },
      "execution_count": 120,
      "outputs": [
        {
          "output_type": "stream",
          "name": "stdout",
          "text": [
            "0.7901118717921518\n"
          ]
        }
      ]
    },
    {
      "cell_type": "code",
      "source": [
        "# Print the F1 score\n",
        "print(f1_score(y_test, y_pred))"
      ],
      "metadata": {
        "colab": {
          "base_uri": "https://localhost:8080/"
        },
        "id": "JsUu-KfetD5x",
        "outputId": "58237c08-e4d9-49a6-bb2e-664f71fbbcd6"
      },
      "execution_count": 121,
      "outputs": [
        {
          "output_type": "stream",
          "name": "stdout",
          "text": [
            "0.21875\n"
          ]
        }
      ]
    },
    {
      "cell_type": "markdown",
      "source": [
        "### 4.3. Decision Tree"
      ],
      "metadata": {
        "id": "4VRZhIOI_cFU"
      }
    },
    {
      "cell_type": "code",
      "source": [
        "# Instantiate the classifier\n",
        "dct = DecisionTreeClassifier()\n",
        "\n",
        "# Fit the classifier\n",
        "dct.fit(X_train, y_train)\n",
        "\n",
        "# Compute accuracy\n",
        "print(dct.score(X_test, y_test))\n",
        "\n",
        "# Predict the labels of the test set\n",
        "y_pred = dct.predict(X_test)"
      ],
      "metadata": {
        "colab": {
          "base_uri": "https://localhost:8080/"
        },
        "id": "uOkpf8NS_hNt",
        "outputId": "de388ded-fde7-4f43-f012-ee6ed9252e34"
      },
      "execution_count": 122,
      "outputs": [
        {
          "output_type": "stream",
          "name": "stdout",
          "text": [
            "0.908\n"
          ]
        }
      ]
    },
    {
      "cell_type": "code",
      "source": [
        "# Print confusion matrix\n",
        "print(confusion_matrix(y_test, y_pred))"
      ],
      "metadata": {
        "colab": {
          "base_uri": "https://localhost:8080/"
        },
        "id": "hn9WyGscRElm",
        "outputId": "300f1740-38f3-4aa1-b49f-8514fc200e4e"
      },
      "execution_count": 123,
      "outputs": [
        {
          "output_type": "stream",
          "name": "stdout",
          "text": [
            "[[804  53]\n",
            " [ 39 104]]\n"
          ]
        }
      ]
    },
    {
      "cell_type": "code",
      "source": [
        "# Print the precision\n",
        "print(precision_score(y_test, y_pred))"
      ],
      "metadata": {
        "colab": {
          "base_uri": "https://localhost:8080/"
        },
        "id": "zl_c1PQARLi2",
        "outputId": "bca2cf9a-53bb-426d-8495-a9323b3ca6a6"
      },
      "execution_count": 124,
      "outputs": [
        {
          "output_type": "stream",
          "name": "stdout",
          "text": [
            "0.6624203821656051\n"
          ]
        }
      ]
    },
    {
      "cell_type": "code",
      "source": [
        "# Print the recall\n",
        "print(recall_score(y_test, y_pred))"
      ],
      "metadata": {
        "colab": {
          "base_uri": "https://localhost:8080/"
        },
        "id": "35npCtGERcFv",
        "outputId": "a43ef187-c34e-4fb4-cfd0-0c4c878fdec9"
      },
      "execution_count": 125,
      "outputs": [
        {
          "output_type": "stream",
          "name": "stdout",
          "text": [
            "0.7272727272727273\n"
          ]
        }
      ]
    },
    {
      "cell_type": "code",
      "source": [
        "# Generate the probabilities\n",
        "y_pred_prob = dct.predict_proba(X_test)[:, 1]\n",
        "\n",
        "# Calculate the roc metrics\n",
        "fpr, tpr, thresholds = roc_curve(y_test, y_pred_prob)\n",
        "\n",
        "# Plot the ROC curve\n",
        "plt.plot(fpr, tpr)\n",
        "\n",
        "# Add labels and diagonal line\n",
        "plt.xlabel(\"False Positive Rate\")\n",
        "plt.ylabel(\"True Positive Rate\")\n",
        "plt.plot([0, 1], [0, 1], \"k--\")\n",
        "plt.show()"
      ],
      "metadata": {
        "colab": {
          "base_uri": "https://localhost:8080/",
          "height": 449
        },
        "id": "urUcnDHbqvng",
        "outputId": "68989b8f-0bae-4549-fdc9-01632454275a"
      },
      "execution_count": 126,
      "outputs": [
        {
          "output_type": "display_data",
          "data": {
            "text/plain": [
              "<Figure size 640x480 with 1 Axes>"
            ],
            "image/png": "[encoded data removed]"
          },
          "metadata": {}
        }
      ]
    },
    {
      "cell_type": "code",
      "source": [
        "# Print the AUC\n",
        "print(roc_auc_score(y_test, y_pred_prob))"
      ],
      "metadata": {
        "colab": {
          "base_uri": "https://localhost:8080/"
        },
        "id": "jFuvKwBPr2L1",
        "outputId": "546a1a68-73be-4066-b15f-e49c99f5c07a"
      },
      "execution_count": 127,
      "outputs": [
        {
          "output_type": "stream",
          "name": "stdout",
          "text": [
            "0.8327145433329797\n"
          ]
        }
      ]
    },
    {
      "cell_type": "code",
      "source": [
        "# Print the F1 score\n",
        "print(f1_score(y_test, y_pred))"
      ],
      "metadata": {
        "colab": {
          "base_uri": "https://localhost:8080/"
        },
        "id": "CGV_3ajytGbo",
        "outputId": "813d2e64-07cb-49f9-a83b-79beddcf494b"
      },
      "execution_count": 128,
      "outputs": [
        {
          "output_type": "stream",
          "name": "stdout",
          "text": [
            "0.6933333333333332\n"
          ]
        }
      ]
    },
    {
      "cell_type": "markdown",
      "source": [
        "### 4.4. Random Forest"
      ],
      "metadata": {
        "id": "U6Ghf6S-FSK0"
      }
    },
    {
      "cell_type": "code",
      "source": [
        "# Instantiate the classifier\n",
        "rdf = RandomForestClassifier()\n",
        "\n",
        "# Fit to the training data\n",
        "rdf.fit(X_train, y_train)\n",
        "\n",
        "# Compute accuracy\n",
        "print(rdf.score(X_test, y_test))\n",
        "\n",
        "# Predict the labels of the test set\n",
        "y_pred = rdf.predict(X_test)"
      ],
      "metadata": {
        "colab": {
          "base_uri": "https://localhost:8080/"
        },
        "id": "86gS34oNFUpZ",
        "outputId": "d8664017-ddd3-4027-b79e-91b8037f2210"
      },
      "execution_count": 129,
      "outputs": [
        {
          "output_type": "stream",
          "name": "stdout",
          "text": [
            "0.948\n"
          ]
        }
      ]
    },
    {
      "cell_type": "code",
      "source": [
        "# Print confusion matrix\n",
        "print(confusion_matrix(y_test, y_pred))"
      ],
      "metadata": {
        "colab": {
          "base_uri": "https://localhost:8080/"
        },
        "id": "VV1lFugwRHkF",
        "outputId": "7cdb0369-79fe-440b-eea7-2f706119685b"
      },
      "execution_count": 130,
      "outputs": [
        {
          "output_type": "stream",
          "name": "stdout",
          "text": [
            "[[852   5]\n",
            " [ 47  96]]\n"
          ]
        }
      ]
    },
    {
      "cell_type": "code",
      "source": [
        "# Print the precision\n",
        "print(precision_score(y_test, y_pred))"
      ],
      "metadata": {
        "colab": {
          "base_uri": "https://localhost:8080/"
        },
        "id": "umcj4XNCRKiU",
        "outputId": "163ba69a-7673-4a0d-e9a6-6cb004aaa49f"
      },
      "execution_count": 131,
      "outputs": [
        {
          "output_type": "stream",
          "name": "stdout",
          "text": [
            "0.9504950495049505\n"
          ]
        }
      ]
    },
    {
      "cell_type": "code",
      "source": [
        "# Print the recall\n",
        "print(recall_score(y_test, y_pred))"
      ],
      "metadata": {
        "colab": {
          "base_uri": "https://localhost:8080/"
        },
        "id": "NoMQMW0dRc5l",
        "outputId": "3233d26c-a6e9-4c07-f652-93f4cfbf0745"
      },
      "execution_count": 132,
      "outputs": [
        {
          "output_type": "stream",
          "name": "stdout",
          "text": [
            "0.6713286713286714\n"
          ]
        }
      ]
    },
    {
      "cell_type": "code",
      "source": [
        "# Generate the probabilities\n",
        "y_pred_prob = rdf.predict_proba(X_test)[:, 1]\n",
        "\n",
        "# Calculate the roc metrics\n",
        "fpr, tpr, thresholds = roc_curve(y_test, y_pred_prob)\n",
        "\n",
        "# Plot the ROC curve\n",
        "plt.plot(fpr, tpr)\n",
        "\n",
        "# Add labels and diagonal line\n",
        "plt.xlabel(\"False Positive Rate\")\n",
        "plt.ylabel(\"True Positive Rate\")\n",
        "plt.plot([0, 1], [0, 1], \"k--\")\n",
        "plt.show()"
      ],
      "metadata": {
        "colab": {
          "base_uri": "https://localhost:8080/",
          "height": 449
        },
        "id": "rzco6xanq0iK",
        "outputId": "9f19c09e-bea2-498c-9ebc-6b208b185be7"
      },
      "execution_count": 133,
      "outputs": [
        {
          "output_type": "display_data",
          "data": {
            "text/plain": [
              "<Figure size 640x480 with 1 Axes>"
            ],
            "image/png": "[encoded data removed]"
          },
          "metadata": {}
        }
      ]
    },
    {
      "cell_type": "code",
      "source": [
        "# Print the AUC\n",
        "print(roc_auc_score(y_test, y_pred_prob))"
      ],
      "metadata": {
        "colab": {
          "base_uri": "https://localhost:8080/"
        },
        "id": "9xhymLferyDp",
        "outputId": "955eee2d-5989-4191-b5ec-414791fadad3"
      },
      "execution_count": 134,
      "outputs": [
        {
          "output_type": "stream",
          "name": "stdout",
          "text": [
            "0.9457083173535916\n"
          ]
        }
      ]
    },
    {
      "cell_type": "code",
      "source": [
        "# Print the F1 score\n",
        "print(f1_score(y_test, y_pred))"
      ],
      "metadata": {
        "colab": {
          "base_uri": "https://localhost:8080/"
        },
        "id": "C2QLc-C-tH7E",
        "outputId": "aebe9a18-cbe3-4134-af2e-1154a27363b5"
      },
      "execution_count": 135,
      "outputs": [
        {
          "output_type": "stream",
          "name": "stdout",
          "text": [
            "0.7868852459016393\n"
          ]
        }
      ]
    },
    {
      "cell_type": "markdown",
      "source": [
        "### 4.5. AdaBoost"
      ],
      "metadata": {
        "id": "VEoaWm-J9HMy"
      }
    },
    {
      "cell_type": "code",
      "source": [
        "# Instantiate the classifier\n",
        "ada = AdaBoostClassifier()\n",
        "\n",
        "# Fit to the training data\n",
        "ada.fit(X_train, y_train)\n",
        "\n",
        "# Compute accuracy\n",
        "print(ada.score(X_test, y_test))\n",
        "\n",
        "# Predict the labels of the test set\n",
        "y_pred = ada.predict(X_test)"
      ],
      "metadata": {
        "colab": {
          "base_uri": "https://localhost:8080/"
        },
        "id": "I67PvHwy9SG9",
        "outputId": "968f1b9b-e97f-46e1-f9fe-69c8595ab8eb"
      },
      "execution_count": 136,
      "outputs": [
        {
          "output_type": "stream",
          "name": "stdout",
          "text": [
            "0.878\n"
          ]
        }
      ]
    },
    {
      "cell_type": "code",
      "source": [
        "# Print confusion matrix\n",
        "print(confusion_matrix(y_test, y_pred))"
      ],
      "metadata": {
        "colab": {
          "base_uri": "https://localhost:8080/"
        },
        "id": "_vUVFBsb9yxj",
        "outputId": "9f723998-a807-422e-aff2-976e2cfa4aaa"
      },
      "execution_count": 137,
      "outputs": [
        {
          "output_type": "stream",
          "name": "stdout",
          "text": [
            "[[832  25]\n",
            " [ 97  46]]\n"
          ]
        }
      ]
    },
    {
      "cell_type": "code",
      "source": [
        "# Print the precision\n",
        "print(precision_score(y_test, y_pred))"
      ],
      "metadata": {
        "colab": {
          "base_uri": "https://localhost:8080/"
        },
        "id": "7uQjHfag90_a",
        "outputId": "170c9e9a-7c10-406d-ab3b-440e1c18382e"
      },
      "execution_count": 138,
      "outputs": [
        {
          "output_type": "stream",
          "name": "stdout",
          "text": [
            "0.647887323943662\n"
          ]
        }
      ]
    },
    {
      "cell_type": "code",
      "source": [
        "# Print the recall\n",
        "print(recall_score(y_test, y_pred))"
      ],
      "metadata": {
        "colab": {
          "base_uri": "https://localhost:8080/"
        },
        "id": "ycso4-Fj93f5",
        "outputId": "976a0978-4f0e-4a9e-c45d-958046ac64e4"
      },
      "execution_count": 139,
      "outputs": [
        {
          "output_type": "stream",
          "name": "stdout",
          "text": [
            "0.32167832167832167\n"
          ]
        }
      ]
    },
    {
      "cell_type": "code",
      "source": [
        "# Generate the probabilities\n",
        "y_pred_prob = ada.predict_proba(X_test)[:, 1]\n",
        "\n",
        "# Calculate the roc metrics\n",
        "fpr, tpr, thresholds = roc_curve(y_test, y_pred_prob)\n",
        "\n",
        "# Plot the ROC curve\n",
        "plt.plot(fpr, tpr)\n",
        "\n",
        "# Add labels and diagonal line\n",
        "plt.xlabel(\"False Positive Rate\")\n",
        "plt.ylabel(\"True Positive Rate\")\n",
        "plt.plot([0, 1], [0, 1], \"k--\")\n",
        "plt.show()"
      ],
      "metadata": {
        "colab": {
          "base_uri": "https://localhost:8080/",
          "height": 449
        },
        "id": "1wPQOUnN959M",
        "outputId": "a824cec4-cea7-447b-e3b7-820de1b47855"
      },
      "execution_count": 140,
      "outputs": [
        {
          "output_type": "display_data",
          "data": {
            "text/plain": [
              "<Figure size 640x480 with 1 Axes>"
            ],
            "image/png": "[encoded data removed]"
          },
          "metadata": {}
        }
      ]
    },
    {
      "cell_type": "code",
      "source": [
        "# Print the AUC\n",
        "print(roc_auc_score(y_test, y_pred_prob))"
      ],
      "metadata": {
        "colab": {
          "base_uri": "https://localhost:8080/"
        },
        "id": "2Tj3S_Sx-BVE",
        "outputId": "d0de10f4-25ef-406d-b329-1c31470a3b08"
      },
      "execution_count": 141,
      "outputs": [
        {
          "output_type": "stream",
          "name": "stdout",
          "text": [
            "0.8744645086535402\n"
          ]
        }
      ]
    },
    {
      "cell_type": "code",
      "source": [
        "# Print the F1 score\n",
        "print(f1_score(y_test, y_pred))\n"
      ],
      "metadata": {
        "colab": {
          "base_uri": "https://localhost:8080/"
        },
        "id": "M4za18X3-DyA",
        "outputId": "2d7193db-c04d-4c99-ad73-287b3f1119a6"
      },
      "execution_count": 142,
      "outputs": [
        {
          "output_type": "stream",
          "name": "stdout",
          "text": [
            "0.42990654205607476\n"
          ]
        }
      ]
    },
    {
      "cell_type": "markdown",
      "source": [
        "### 4.6. Gradient Boosting"
      ],
      "metadata": {
        "id": "IWDCwWBd-pBz"
      }
    },
    {
      "cell_type": "code",
      "source": [
        "# Instantiate the classifier\n",
        "xgb = xgb.XGBClassifier()\n",
        "\n",
        "# Fit to the training data\n",
        "xgb.fit(X_train, y_train)\n",
        "\n",
        "# Compute accuracy\n",
        "print(xgb.score(X_test, y_test))\n",
        "\n",
        "# Predict the labels of the test set\n",
        "y_pred = xgb.predict(X_test)"
      ],
      "metadata": {
        "colab": {
          "base_uri": "https://localhost:8080/"
        },
        "id": "8cAdQ8Vk-ojN",
        "outputId": "1f631976-0598-4502-fb28-5b59a0945486"
      },
      "execution_count": 143,
      "outputs": [
        {
          "output_type": "stream",
          "name": "stdout",
          "text": [
            "0.956\n"
          ]
        }
      ]
    },
    {
      "cell_type": "code",
      "source": [
        "# Print confusion matrix\n",
        "print(confusion_matrix(y_test, y_pred))"
      ],
      "metadata": {
        "colab": {
          "base_uri": "https://localhost:8080/"
        },
        "id": "3Qynj1nI_bWf",
        "outputId": "773dcd5d-6dae-41ba-f4d4-21430a55534e"
      },
      "execution_count": 144,
      "outputs": [
        {
          "output_type": "stream",
          "name": "stdout",
          "text": [
            "[[849   8]\n",
            " [ 36 107]]\n"
          ]
        }
      ]
    },
    {
      "cell_type": "code",
      "source": [
        "# Print the precision\n",
        "print(precision_score(y_test, y_pred))"
      ],
      "metadata": {
        "colab": {
          "base_uri": "https://localhost:8080/"
        },
        "id": "OtEyWlTh_cOK",
        "outputId": "f5e1f7ee-699b-4fbd-954e-c57eb3fcb4df"
      },
      "execution_count": 145,
      "outputs": [
        {
          "output_type": "stream",
          "name": "stdout",
          "text": [
            "0.9304347826086956\n"
          ]
        }
      ]
    },
    {
      "cell_type": "code",
      "source": [
        "# Print the recall\n",
        "print(recall_score(y_test, y_pred))"
      ],
      "metadata": {
        "colab": {
          "base_uri": "https://localhost:8080/"
        },
        "id": "UPBFwASi_eOI",
        "outputId": "716d9bcb-e5a1-4819-d901-6c07348053a2"
      },
      "execution_count": 146,
      "outputs": [
        {
          "output_type": "stream",
          "name": "stdout",
          "text": [
            "0.7482517482517482\n"
          ]
        }
      ]
    },
    {
      "cell_type": "code",
      "source": [
        "# Generate the probabilities\n",
        "y_pred_prob = xgb.predict_proba(X_test)[:, 1]\n",
        "\n",
        "# Calculate the roc metrics\n",
        "fpr, tpr, thresholds = roc_curve(y_test, y_pred_prob)\n",
        "\n",
        "# Plot the ROC curve\n",
        "plt.plot(fpr, tpr)\n",
        "\n",
        "# Add labels and diagonal line\n",
        "plt.xlabel(\"False Positive Rate\")\n",
        "plt.ylabel(\"True Positive Rate\")\n",
        "plt.plot([0, 1], [0, 1], \"k--\")\n",
        "plt.show()\n"
      ],
      "metadata": {
        "colab": {
          "base_uri": "https://localhost:8080/",
          "height": 449
        },
        "id": "NXBzvDpl_gRb",
        "outputId": "537a3d1f-c930-4946-9959-0dbba428557a"
      },
      "execution_count": 147,
      "outputs": [
        {
          "output_type": "display_data",
          "data": {
            "text/plain": [
              "<Figure size 640x480 with 1 Axes>"
            ],
            "image/png": "[encoded data removed]"
          },
          "metadata": {}
        }
      ]
    },
    {
      "cell_type": "code",
      "source": [
        "# Print the AUC\n",
        "print(roc_auc_score(y_test, y_pred_prob))"
      ],
      "metadata": {
        "colab": {
          "base_uri": "https://localhost:8080/"
        },
        "id": "_Q-KhD3t_lUh",
        "outputId": "a5189448-19a8-4d67-f746-07105b2ed440"
      },
      "execution_count": 148,
      "outputs": [
        {
          "output_type": "stream",
          "name": "stdout",
          "text": [
            "0.9230361237362404\n"
          ]
        }
      ]
    },
    {
      "cell_type": "code",
      "source": [
        "# Print the F1 score\n",
        "print(f1_score(y_test, y_pred))"
      ],
      "metadata": {
        "colab": {
          "base_uri": "https://localhost:8080/"
        },
        "id": "Q6VE5PkC_nYO",
        "outputId": "cabab02d-83f4-44af-adab-2c38551fda67"
      },
      "execution_count": 149,
      "outputs": [
        {
          "output_type": "stream",
          "name": "stdout",
          "text": [
            "0.8294573643410852\n"
          ]
        }
      ]
    },
    {
      "cell_type": "markdown",
      "source": [
        "### 4.7. Grid Search"
      ],
      "metadata": {
        "id": "urJbqT1Xtxm0"
      }
    },
    {
      "cell_type": "markdown",
      "source": [
        "* Ramdom Forest"
      ],
      "metadata": {
        "id": "QykBplCmvUeG"
      }
    },
    {
      "cell_type": "code",
      "source": [
        "# Create the hyperparameter grid\n",
        "param_grid = {\"max_depth\": [3, None],\n",
        "              \"max_features\": [1, 3, 10],\n",
        "              \"bootstrap\": [True, False],\n",
        "              \"criterion\": [\"gini\", \"entropy\"]}\n",
        "\n",
        "# Call GridSearchCV\n",
        "grid_search = GridSearchCV(rdf, param_grid, cv=3)\n",
        "\n",
        "# Fit the model\n",
        "grid_search.fit(X, y)\n",
        "\n",
        "# Print the optimal parameters\n",
        "print(grid_search.best_params_)"
      ],
      "metadata": {
        "colab": {
          "base_uri": "https://localhost:8080/"
        },
        "id": "hclI_z4puzi4",
        "outputId": "323a978e-cc70-4106-d069-3e325aeaf2f9"
      },
      "execution_count": 150,
      "outputs": [
        {
          "output_type": "stream",
          "name": "stdout",
          "text": [
            "{'bootstrap': True, 'criterion': 'entropy', 'max_depth': None, 'max_features': 10}\n"
          ]
        }
      ]
    },
    {
      "cell_type": "markdown",
      "source": [
        "It looks like taking sqare root of the number of features leads to optimal model performance. By default, the model takes the square root of the number of features."
      ],
      "metadata": {
        "id": "dyPDgYfSvkM7"
      }
    },
    {
      "cell_type": "code",
      "source": [
        "# Print the best score\n",
        "print(grid_search.best_score_)"
      ],
      "metadata": {
        "colab": {
          "base_uri": "https://localhost:8080/"
        },
        "id": "8z-v0sqNvjib",
        "outputId": "421201fe-7851-40f8-8445-f2daca920694"
      },
      "execution_count": 151,
      "outputs": [
        {
          "output_type": "stream",
          "name": "stdout",
          "text": [
            "0.9561956195619562\n"
          ]
        }
      ]
    },
    {
      "cell_type": "markdown",
      "source": [
        "### 4.8. Randomized Search"
      ],
      "metadata": {
        "id": "Tb3DcaUexQev"
      }
    },
    {
      "cell_type": "markdown",
      "source": [
        "* Random Forest"
      ],
      "metadata": {
        "id": "y12Crj2Uxroq"
      }
    },
    {
      "cell_type": "code",
      "source": [
        "# Create the hyperparameter grid\n",
        "param_dist = {\"max_depth\": [3, None],\n",
        "              \"max_features\": randint(1, 11),\n",
        "              \"bootstrap\": [True, False],\n",
        "              \"criterion\": [\"gini\", \"entropy\"]}\n",
        "\n",
        "# Call RandomizedSearchCV\n",
        "random_search = RandomizedSearchCV(rdf, param_dist, cv=3)\n",
        "\n",
        "# Fit the model\n",
        "random_search.fit(X,y)\n",
        "\n",
        "# Print best parameters\n",
        "print(random_search.best_params_)"
      ],
      "metadata": {
        "colab": {
          "base_uri": "https://localhost:8080/"
        },
        "id": "D6gRgFBLxUuv",
        "outputId": "0f00f58d-8212-4e45-a2c8-698614913a03"
      },
      "execution_count": 152,
      "outputs": [
        {
          "output_type": "stream",
          "name": "stdout",
          "text": [
            "{'bootstrap': True, 'criterion': 'gini', 'max_depth': None, 'max_features': 7}\n"
          ]
        }
      ]
    },
    {
      "cell_type": "code",
      "source": [
        "# Print the best score\n",
        "print(grid_search.best_score_)"
      ],
      "metadata": {
        "colab": {
          "base_uri": "https://localhost:8080/"
        },
        "id": "21sVwottxwws",
        "outputId": "dbb644ed-40ce-4973-cbe1-dcc0de5b5e3c"
      },
      "execution_count": 153,
      "outputs": [
        {
          "output_type": "stream",
          "name": "stdout",
          "text": [
            "0.9561956195619562\n"
          ]
        }
      ]
    },
    {
      "cell_type": "markdown",
      "source": [
        "### 4.9. Summary"
      ],
      "metadata": {
        "id": "LU4Cxo-MDJsY"
      }
    },
    {
      "cell_type": "markdown",
      "source": [
        "* Model Selection:\n",
        "\n",
        "The Random Forest classifier was chosen for the task, and it has demonstrated good performance based on various evaluation metrics.\n",
        "\n",
        "* Hyperparameter Tuning:\n",
        "\n",
        "Hyperparameter tuning was performed using RandomizedSearchCV, exploring different combinations of hyperparameters such as max_depth, max_features, bootstrap, and criterion.\n",
        "\n",
        "* Best Hyperparameters:\n",
        "\n",
        "The best hyperparameters found through the search were {'bootstrap': True, 'criterion': 'gini', 'max_depth': None, 'max_features': 7}.\n",
        "\n",
        "* Model Evaluation Metrics:\n",
        "\n",
        "Accuracy: The accuracy of the model on the test set was computed and found to be around 94.8%.\n",
        "\n",
        "Confusion Matrix: The confusion matrix revealed that the model performed well in correctly classifying both positive and negative instances.\n",
        "\n",
        "Precision: The precision score indicates a high proportion of correctly predicted positive instances, with a value of approximately 95.05%.\n",
        "\n",
        "Recall: The recall score, around 67.13%, suggests that the model is capturing a substantial portion of actual positive instances.\n",
        "\n",
        "AUC-ROC Score: The AUC-ROC score, a measure of the classifier's ability to distinguish between classes, was approximately 94.57%.\n",
        "\n",
        "F1 Score: The F1 score, combining precision and recall, was around 78.69%."
      ],
      "metadata": {
        "id": "fpt2SomGH7EA"
      }
    },
    {
      "cell_type": "markdown",
      "source": [
        "## 5. Feature Importances\n",
        "\n",
        "The model was trained on a dataset with 21 features. Understanding the importance of these features in the context of the model's predictions could provide insights into the factors influencing customer churn."
      ],
      "metadata": {
        "id": "rHQoe67c1fbc"
      }
    },
    {
      "cell_type": "code",
      "source": [
        "# Calculate feature importances\n",
        "importances = rdf.feature_importances_\n",
        "\n",
        "# Create plot\n",
        "plt.barh(range(X.shape[1]), importances)\n",
        "\n",
        "# Sort importances\n",
        "sorted_index = np.argsort(importances)\n",
        "\n",
        "# Create labels\n",
        "labels = X.columns[sorted_index]\n",
        "\n",
        "# Clear current plot\n",
        "plt.clf()\n",
        "\n",
        "# Create plot\n",
        "plt.barh(range(X.shape[1]), importances[sorted_index], tick_label=labels)\n",
        "plt.show()"
      ],
      "metadata": {
        "colab": {
          "base_uri": "https://localhost:8080/",
          "height": 430
        },
        "id": "Ba1ALKU81ppP",
        "outputId": "eccf1f0d-e96e-4685-ad28-608e07474b35"
      },
      "execution_count": 154,
      "outputs": [
        {
          "output_type": "display_data",
          "data": {
            "text/plain": [
              "<Figure size 640x480 with 1 Axes>"
            ],
            "image/png": "[encoded data removed]"
          },
          "metadata": {}
        }
      ]
    },
    {
      "cell_type": "markdown",
      "source": [
        "The plot tells us that CustServ_Calls, Day_Mins and Day_Charge are the most important drivers of churn."
      ],
      "metadata": {
        "id": "n-xOZjhm2ucM"
      }
    },
    {
      "cell_type": "markdown",
      "source": [
        "## 6. Recommendations\n",
        "\n"
      ],
      "metadata": {
        "id": "-RO4o_vdDatg"
      }
    },
    {
      "cell_type": "markdown",
      "source": [
        "Based on the analysis of feature importance in the Random Forest model, which indicates that \"CustServ_Calls,\" \"Day_Mins,\" and \"Day_Charge\" are the most influential factors for predicting customer churn, here are some recommendations:\n",
        "\n",
        "* CustServ_Calls:\n",
        "\n",
        "Recommendation: Investigate and address the reasons behind customers making multiple customer service calls. Frequent calls may indicate dissatisfaction or unresolved issues. Implement measures to enhance customer service quality, streamline issue resolution processes, and proactively address common concerns to reduce the need for repeated calls.\n",
        "\n",
        "* Day_Mins:\n",
        "\n",
        "Recommendation: Pay attention to customers who use a significant amount of daytime minutes. It could be an indication of heavy usage or potential dissatisfaction with the service. Consider personalized communication strategies, such as offering tailored plans or promotions, to meet the specific needs of high-usage customers and improve overall satisfaction.\n",
        "\n",
        "* Day_Charge:\n",
        "\n",
        "Recommendation: The correlation between \"Day_Mins\" and \"Day_Charge\" suggests that the cost associated with daytime usage is an important factor. Evaluate pricing structures to ensure they align with customer expectations and market standards. Consider offering competitive pricing plans or discounts for daytime usage to retain customers and attract new ones.\n",
        "\n",
        "* Proactive Customer Engagement:\n",
        "\n",
        "Recommendation: Implement proactive customer engagement strategies, such as targeted surveys or feedback mechanisms, to understand the specific concerns and preferences of customers. This can help identify issues early on and allow for timely intervention to prevent churn.\n",
        "\n",
        "* Personalized Retention Offers:\n",
        "\n",
        "Recommendation: Develop personalized retention offers for customers identified as high-risk based on the model's insights. This could include special discounts, loyalty rewards, or customized plans to incentivize them to stay with the service.\n",
        "\n",
        "* Continuous Monitoring:\n",
        "\n",
        "Recommendation: Customer behavior and preferences evolve over time. Implement a system for continuous monitoring of customer interactions, service usage patterns, and feedback to adapt retention strategies accordingly. Regularly update the model based on new data to ensure its effectiveness in predicting churn.\n",
        "\n",
        "* Communication and Education:\n",
        "\n",
        "Recommendation: Proactively communicate with customers about plan details, charges, and available features. Ensure that customers are well-informed about the value they receive from the service. Educational initiatives can help manage expectations and reduce dissatisfaction that might lead to churn."
      ],
      "metadata": {
        "id": "JUDEzDWaKiti"
      }
    }
  ]
}